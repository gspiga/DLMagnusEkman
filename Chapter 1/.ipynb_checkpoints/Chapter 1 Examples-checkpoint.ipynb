{
 "cells": [
  {
   "cell_type": "markdown",
   "id": "07ed97ab",
   "metadata": {},
   "source": [
    "Code - Snippet 1-1: Python Implentation of Perceptron Function "
   ]
  },
  {
   "cell_type": "code",
   "execution_count": 3,
   "id": "0a3082c1",
   "metadata": {},
   "outputs": [],
   "source": [
    "# First element in vector x must be 1\n",
    "# Length of w and x must be n+1 for neuron with n inputs\n",
    "def compute_output(w,x):\n",
    "    z = 0.0 \n",
    "    for i in range(len(w)):\n",
    "        z += x[i] * w[i]\n",
    "    if z < 0:\n",
    "        return -1\n",
    "    else:\n",
    "        return 1"
   ]
  },
  {
   "cell_type": "code",
   "execution_count": null,
   "id": "c152242a",
   "metadata": {},
   "outputs": [],
   "source": []
  },
  {
   "cell_type": "code",
   "execution_count": null,
   "id": "3cc26e5b",
   "metadata": {},
   "outputs": [],
   "source": []
  },
  {
   "cell_type": "markdown",
   "id": "f86d2c7c",
   "metadata": {},
   "source": []
  },
  {
   "cell_type": "code",
   "execution_count": null,
   "id": "796dea0a",
   "metadata": {},
   "outputs": [],
   "source": []
  }
 ],
 "metadata": {
  "kernelspec": {
   "display_name": "Python 3 (ipykernel)",
   "language": "python",
   "name": "python3"
  },
  "language_info": {
   "codemirror_mode": {
    "name": "ipython",
    "version": 3
   },
   "file_extension": ".py",
   "mimetype": "text/x-python",
   "name": "python",
   "nbconvert_exporter": "python",
   "pygments_lexer": "ipython3",
   "version": "3.8.8"
  }
 },
 "nbformat": 4,
 "nbformat_minor": 5
}
